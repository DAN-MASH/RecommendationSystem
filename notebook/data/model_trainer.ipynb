{
 "cells": [
  {
   "cell_type": "code",
   "execution_count": 1,
   "metadata": {},
   "outputs": [
    {
     "ename": "ModuleNotFoundError",
     "evalue": "No module named 'requests'",
     "output_type": "error",
     "traceback": [
      "\u001b[1;31m---------------------------------------------------------------------------\u001b[0m",
      "\u001b[1;31mModuleNotFoundError\u001b[0m                       Traceback (most recent call last)",
      "Cell \u001b[1;32mIn[1], line 5\u001b[0m\n\u001b[0;32m      3\u001b[0m \u001b[38;5;28;01mimport\u001b[39;00m \u001b[38;5;21;01mos\u001b[39;00m\n\u001b[0;32m      4\u001b[0m \u001b[38;5;28;01mimport\u001b[39;00m \u001b[38;5;21;01msys\u001b[39;00m\n\u001b[1;32m----> 5\u001b[0m \u001b[38;5;28;01mimport\u001b[39;00m \u001b[38;5;21;01mrequests\u001b[39;00m\n\u001b[0;32m      6\u001b[0m \u001b[38;5;28;01mimport\u001b[39;00m \u001b[38;5;21;01mjson\u001b[39;00m\n\u001b[0;32m      8\u001b[0m \u001b[38;5;28;01mfrom\u001b[39;00m \u001b[38;5;21;01msrc\u001b[39;00m\u001b[38;5;21;01m.\u001b[39;00m\u001b[38;5;21;01mexception\u001b[39;00m \u001b[38;5;28;01mimport\u001b[39;00m CustomException\n",
      "\u001b[1;31mModuleNotFoundError\u001b[0m: No module named 'requests'"
     ]
    }
   ],
   "source": [
    "import numpy\n",
    "import pandas as pd\n",
    "import os\n",
    "import sys\n",
    "import requests\n",
    "import json\n",
    "\n",
    "from src.exception import CustomException\n",
    "from src.logger import logging\n",
    "\n",
    "from sklearn.model_selection import train_test_split\n",
    "from sklearn.metrics.pairwise import cosine_similarity\n",
    "from sklearn.feature_extraction.text import TfidfVectorizer\n",
    "from scipy.sparse import coo_matrix"
   ]
  },
  {
   "cell_type": "code",
   "execution_count": 2,
   "metadata": {},
   "outputs": [],
   "source": [
    "import requests\n",
    "import pandas as pd\n",
    "import os\n",
    "import numpy as np"
   ]
  },
  {
   "cell_type": "code",
   "execution_count": 3,
   "metadata": {},
   "outputs": [],
   "source": [
    "url=url=\"https://techtales.vercel.app/api/blogs\"\n",
    "response=requests.get(url)\n",
    "df=response.json()"
   ]
  },
  {
   "cell_type": "code",
   "execution_count": 6,
   "metadata": {},
   "outputs": [],
   "source": [
    "df=pd.json_normalize(df)"
   ]
  },
  {
   "cell_type": "code",
   "execution_count": 9,
   "metadata": {},
   "outputs": [
    {
     "name": "stdout",
     "output_type": "stream",
     "text": [
      "<class 'pandas.core.frame.DataFrame'>\n",
      "RangeIndex: 38 entries, 0 to 37\n",
      "Data columns (total 36 columns):\n",
      " #   Column                    Non-Null Count  Dtype  \n",
      "---  ------                    --------------  -----  \n",
      " 0   id                        38 non-null     int64  \n",
      " 1   title                     38 non-null     object \n",
      " 2   body                      38 non-null     object \n",
      " 3   slug                      38 non-null     object \n",
      " 4   tags                      38 non-null     object \n",
      " 5   authorId                  38 non-null     int64  \n",
      " 6   status                    38 non-null     object \n",
      " 7   likes                     38 non-null     int64  \n",
      " 8   views                     38 non-null     int64  \n",
      " 9   audio                     6 non-null      object \n",
      " 10  createdAt                 38 non-null     object \n",
      " 11  updatedAt                 38 non-null     object \n",
      " 12  image.url                 38 non-null     object \n",
      " 13  image.etag                38 non-null     object \n",
      " 14  image.tags                38 non-null     object \n",
      " 15  image.type                38 non-null     object \n",
      " 16  image.bytes               38 non-null     int64  \n",
      " 17  image.width               38 non-null     int64  \n",
      " 18  image.folder              38 non-null     object \n",
      " 19  image.format              38 non-null     object \n",
      " 20  image.height              38 non-null     int64  \n",
      " 21  image.version             38 non-null     int64  \n",
      " 22  image.asset_id            38 non-null     object \n",
      " 23  image.public_id           38 non-null     object \n",
      " 24  image.signature           38 non-null     object \n",
      " 25  image.created_at          38 non-null     object \n",
      " 26  image.secure_url          38 non-null     object \n",
      " 27  image.version_id          38 non-null     object \n",
      " 28  image.placeholder         38 non-null     bool   \n",
      " 29  image.resource_type       38 non-null     object \n",
      " 30  image.original_filename   38 non-null     object \n",
      " 31  author.username           38 non-null     object \n",
      " 32  author.picture            38 non-null     object \n",
      " 33  _count.comments           38 non-null     int64  \n",
      " 34  image.original_extension  1 non-null      object \n",
      " 35  image.pages               1 non-null      float64\n",
      "dtypes: bool(1), float64(1), int64(9), object(25)\n",
      "memory usage: 10.6+ KB\n"
     ]
    }
   ],
   "source": [
    "df.info()"
   ]
  },
  {
   "cell_type": "code",
   "execution_count": 10,
   "metadata": {},
   "outputs": [
    {
     "data": {
      "text/plain": [
       "(38, 36)"
      ]
     },
     "execution_count": 10,
     "metadata": {},
     "output_type": "execute_result"
    }
   ],
   "source": [
    "df.shape"
   ]
  },
  {
   "cell_type": "code",
   "execution_count": null,
   "metadata": {},
   "outputs": [],
   "source": []
  }
 ],
 "metadata": {
  "kernelspec": {
   "display_name": "Python 3",
   "language": "python",
   "name": "python3"
  },
  "language_info": {
   "codemirror_mode": {
    "name": "ipython",
    "version": 3
   },
   "file_extension": ".py",
   "mimetype": "text/x-python",
   "name": "python",
   "nbconvert_exporter": "python",
   "pygments_lexer": "ipython3",
   "version": "3.10.15"
  }
 },
 "nbformat": 4,
 "nbformat_minor": 2
}
